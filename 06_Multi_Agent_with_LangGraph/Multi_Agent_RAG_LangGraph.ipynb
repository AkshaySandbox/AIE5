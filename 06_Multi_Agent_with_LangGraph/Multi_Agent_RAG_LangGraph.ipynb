{
  "cells": [
    {
      "cell_type": "markdown",
      "metadata": {
        "id": "KxpWDFG11o3G"
      },
      "source": [
        "# Multi-Agent Workflows + RAG - LangGraph\n",
        "\n",
        "Today we'll be looking at an example of a Multi-Agent workflow that's powered by LangGraph, LCEL, and more!\n",
        "\n",
        "We're going to be, more specifically, looking at a \"heirarchical agent teams\" from the [AutoGen: Enabling Next-Gen LLM\n",
        "Applications via Multi-Agent Conversation](https://arxiv.org/pdf/2308.08155) paper.\n",
        "\n",
        "This will be the final \"graph\" of our system:\n",
        "\n",
        "![image](https://i.imgur.com/Bhc7RVE.png)\n",
        "\n",
        "It's important to keep in mind that the actual implementation will be constructed of 3 separate graphs, the final one having 2 graphs as nodes! LangGraph is a heckuva tool!\n",
        "\n"
      ]
    },
    {
      "cell_type": "markdown",
      "metadata": {
        "id": "TyzoBrWoYeOZ"
      },
      "source": [
        "# 🤝 BREAKOUT ROOM #1"
      ]
    },
    {
      "cell_type": "markdown",
      "metadata": {
        "id": "mx3oaVoX5cA2"
      },
      "source": [
        "## Dependencies\n",
        "\n",
        "We'll start, as we normally do, by grabbing our dependencies.\n",
        "\n",
        "We'll be using LangChain and LangGraph to power our application, so let's start by grabbing those!"
      ]
    },
    {
      "cell_type": "code",
      "execution_count": 6,
      "metadata": {
        "id": "cs6HUTgecbzW"
      },
      "outputs": [],
      "source": [
        "!pip install -qU langgraph==0.2.14 langchain==0.2.14 langchain_openai==0.1.23 langchain_core==0.2.35 langchain-community"
      ]
    },
    {
      "cell_type": "markdown",
      "metadata": {
        "id": "BMzWFUc25oqT"
      },
      "source": [
        "We're going to be showing a simple RAG chain as part of our LangGraph - and so we'll need specific dependencies for that as well!"
      ]
    },
    {
      "cell_type": "code",
      "execution_count": 7,
      "metadata": {
        "id": "qEUBCOdukjwc"
      },
      "outputs": [],
      "source": [
        "!pip install -qU --disable-pip-version-check qdrant-client pymupdf tiktoken"
      ]
    },
    {
      "cell_type": "markdown",
      "metadata": {
        "id": "Zpv2MWqu5vS9"
      },
      "source": [
        "Since we'll be relying on OpenAI's suite of models to power our agents today, we'll want to provide our OpenAI API Key.\n",
        "\n",
        "We're also going to be using the Tavily search tool - so we'll want to provide that API key as well!\n",
        "\n",
        "Instruction for how to obtain the Tavily API key can be found:\n",
        "\n",
        "1. [Tavily API Key](https://app.tavily.com/sign-in)\n",
        "\n"
      ]
    },
    {
      "cell_type": "code",
      "execution_count": 8,
      "metadata": {
        "colab": {
          "base_uri": "https://localhost:8080/"
        },
        "id": "h30OjkLfeR2Y",
        "outputId": "5c9cfb0c-d7f8-4648-f353-bbfd61d91f27"
      },
      "outputs": [
        {
          "name": "stdout",
          "output_type": "stream",
          "text": [
            "OpenAI API Key:··········\n",
            "TAVILY_API_KEY··········\n"
          ]
        }
      ],
      "source": [
        "import os\n",
        "import getpass\n",
        "\n",
        "os.environ[\"OPENAI_API_KEY\"] = getpass.getpass(\"OpenAI API Key:\")\n",
        "os.environ[\"TAVILY_API_KEY\"] = getpass.getpass(\"TAVILY_API_KEY\")"
      ]
    },
    {
      "cell_type": "markdown",
      "metadata": {
        "id": "M_LD7rwT6PbO"
      },
      "source": [
        "## Task 1: Simple LCEL RAG\n",
        "\n",
        "Now that we have our dependencies set-up - let's create a simple RAG chain that works over a single PDF.\n",
        "\n",
        "> NOTE: While this particular example is very straight forward - you can \"plug in\" any complexity of chain you desire as a node in a LangGraph."
      ]
    },
    {
      "cell_type": "markdown",
      "metadata": {
        "id": "JY7T5kxJ6jGn"
      },
      "source": [
        "## Retrieval\n",
        "\n",
        "The 'R' in 'RAG' - this is, at this point, fairly straightforward!"
      ]
    },
    {
      "cell_type": "markdown",
      "metadata": {
        "id": "DGuPxSCk7Ztz"
      },
      "source": [
        "#### Data Collection and Processing\n",
        "\n",
        "A classic first step, at this point, let's grab our desired document!"
      ]
    },
    {
      "cell_type": "code",
      "execution_count": 9,
      "metadata": {
        "id": "LfuoEYRCln3H"
      },
      "outputs": [],
      "source": [
        "from langchain.document_loaders import PyMuPDFLoader\n",
        "\n",
        "docs = PyMuPDFLoader(\"https://arxiv.org/pdf/2404.19553\").load()"
      ]
    },
    {
      "cell_type": "markdown",
      "metadata": {
        "id": "r_t_F1zG6vXa"
      },
      "source": [
        "Now we can chunk it down to size!"
      ]
    },
    {
      "cell_type": "code",
      "execution_count": 10,
      "metadata": {
        "id": "5R7A_z8CgL79"
      },
      "outputs": [],
      "source": [
        "import tiktoken\n",
        "from langchain.text_splitter import RecursiveCharacterTextSplitter\n",
        "\n",
        "def tiktoken_len(text):\n",
        "    tokens = tiktoken.encoding_for_model(\"gpt-4o-mini\").encode(\n",
        "        text,\n",
        "    )\n",
        "    return len(tokens)\n",
        "\n",
        "text_splitter = RecursiveCharacterTextSplitter(\n",
        "    chunk_size = 300,\n",
        "    chunk_overlap = 0,\n",
        "    length_function = tiktoken_len,\n",
        ")\n",
        "\n",
        "split_chunks = text_splitter.split_documents(docs)"
      ]
    },
    {
      "cell_type": "markdown",
      "metadata": {
        "id": "lGE-VuMc7AKv"
      },
      "source": [
        "Now we've successfully split our single PDF into..."
      ]
    },
    {
      "cell_type": "code",
      "execution_count": 11,
      "metadata": {
        "colab": {
          "base_uri": "https://localhost:8080/"
        },
        "id": "pgYBHsdWmLvW",
        "outputId": "85d31378-86ad-457e-8f5c-91ac6fad97cb"
      },
      "outputs": [
        {
          "data": {
            "text/plain": [
              "15"
            ]
          },
          "execution_count": 11,
          "metadata": {},
          "output_type": "execute_result"
        }
      ],
      "source": [
        "len(split_chunks)"
      ]
    },
    {
      "cell_type": "markdown",
      "metadata": {
        "id": "lxaKmmyh7DHD"
      },
      "source": [
        "documents!"
      ]
    },
    {
      "cell_type": "markdown",
      "metadata": {
        "id": "cGWs7KTd7QPS"
      },
      "source": [
        "#### Embedding Model and Vector Store\n",
        "\n",
        "Now that we have our chunked document - lets create a vector store, which will first require us to create an embedding model to get the vector representations of our text!\n",
        "\n",
        "We'll use OpenAI's [`text-embedding-3-small`](https://platform.openai.com/docs/guides/embeddings/embedding-models) model - as it's cheap, and performant."
      ]
    },
    {
      "cell_type": "code",
      "execution_count": 12,
      "metadata": {
        "id": "xLIWMMZCmfrj"
      },
      "outputs": [],
      "source": [
        "from langchain_openai.embeddings import OpenAIEmbeddings\n",
        "\n",
        "embedding_model = OpenAIEmbeddings(model=\"text-embedding-3-small\")"
      ]
    },
    {
      "cell_type": "markdown",
      "metadata": {
        "id": "lTEi7Ww573sc"
      },
      "source": [
        "Now we can create our QDrant backed vector store!"
      ]
    },
    {
      "cell_type": "code",
      "execution_count": 13,
      "metadata": {
        "id": "Xct51f8omVAU"
      },
      "outputs": [],
      "source": [
        "from langchain_community.vectorstores import Qdrant\n",
        "\n",
        "qdrant_vectorstore = Qdrant.from_documents(\n",
        "    split_chunks,\n",
        "    embedding_model,\n",
        "    location=\":memory:\",\n",
        "    collection_name=\"extending_context_window_llama_3\",\n",
        ")"
      ]
    },
    {
      "cell_type": "markdown",
      "metadata": {
        "id": "wzGq6o4s79Ar"
      },
      "source": [
        "Let's make sure we can access it as a retriever."
      ]
    },
    {
      "cell_type": "code",
      "execution_count": 14,
      "metadata": {
        "id": "OTnQZbWymi4K"
      },
      "outputs": [],
      "source": [
        "qdrant_retriever = qdrant_vectorstore.as_retriever()"
      ]
    },
    {
      "cell_type": "markdown",
      "metadata": {
        "id": "aU8qSrMS7_D7"
      },
      "source": [
        "### Augmented\n",
        "\n",
        "Now that we have our retrieval process set-up, we need to set up our \"augmentation\" process - AKA a prompt template."
      ]
    },
    {
      "cell_type": "code",
      "execution_count": 15,
      "metadata": {
        "id": "lezTN0zCmk46"
      },
      "outputs": [],
      "source": [
        "from langchain_core.prompts import ChatPromptTemplate\n",
        "\n",
        "RAG_PROMPT = \"\"\"\n",
        "CONTEXT:\n",
        "{context}\n",
        "\n",
        "QUERY:\n",
        "{question}\n",
        "\n",
        "You are a helpful assistant. Use the available context to answer the question. If you can't answer the question, say you don't know.\n",
        "\"\"\"\n",
        "\n",
        "rag_prompt = ChatPromptTemplate.from_template(RAG_PROMPT)"
      ]
    },
    {
      "cell_type": "markdown",
      "metadata": {
        "id": "Y9fa63nM7IKK"
      },
      "source": [
        "### Generation\n",
        "\n",
        "Last, but certainly not least, let's put the 'G' in 'RAG' by adding our generator - in this case, we can rely on OpenAI's [`gpt-4o-mini`](https://platform.openai.com/docs/models/gpt-4o-mini) model!"
      ]
    },
    {
      "cell_type": "code",
      "execution_count": 16,
      "metadata": {
        "id": "AwEi29-Jo3a8"
      },
      "outputs": [],
      "source": [
        "from langchain_openai import ChatOpenAI\n",
        "\n",
        "openai_chat_model = ChatOpenAI(model=\"gpt-4o-mini\")"
      ]
    },
    {
      "cell_type": "markdown",
      "metadata": {
        "id": "qO-ZC0T98XJJ"
      },
      "source": [
        "### RAG - Retrieval Augmented Generation\n",
        "\n",
        "All that's left to do is combine our R, A, and G into a single chain - and we're off!"
      ]
    },
    {
      "cell_type": "code",
      "execution_count": 17,
      "metadata": {
        "id": "nlOJrPm_oT3S"
      },
      "outputs": [],
      "source": [
        "from operator import itemgetter\n",
        "from langchain.schema.output_parser import StrOutputParser\n",
        "\n",
        "rag_chain = (\n",
        "    {\"context\": itemgetter(\"question\") | qdrant_retriever, \"question\": itemgetter(\"question\")}\n",
        "    | rag_prompt | openai_chat_model | StrOutputParser()\n",
        ")"
      ]
    },
    {
      "cell_type": "markdown",
      "metadata": {
        "id": "qiWrbXpu8ggz"
      },
      "source": [
        "Let's test this out and make sure it works."
      ]
    },
    {
      "cell_type": "code",
      "execution_count": 18,
      "metadata": {
        "colab": {
          "base_uri": "https://localhost:8080/",
          "height": 53
        },
        "id": "gJhFlW32pBPe",
        "outputId": "95d45a06-f754-4551-d102-ca71e5cda159"
      },
      "outputs": [
        {
          "data": {
            "application/vnd.google.colaboratory.intrinsic+json": {
              "type": "string"
            },
            "text/plain": [
              "\"In the context of 'long context' as mentioned in the document, 'context' refers to the amount of text or information that a large language model (LLM) can process at one time. Specifically, it pertains to the length of the input that the model can handle, which, in this case, has been extended from 8K tokens to 80K tokens. This allows the model to aggregate and analyze information from longer pieces of text, such as books or lengthy papers, enabling it to perform tasks that require more extensive comprehension and reasoning over multiple details within a long text.\""
            ]
          },
          "execution_count": 18,
          "metadata": {},
          "output_type": "execute_result"
        }
      ],
      "source": [
        "rag_chain.invoke({\"question\" : \"What does the 'context' in 'long context' refer to?\"})"
      ]
    },
    {
      "cell_type": "markdown",
      "metadata": {
        "id": "gReMizYk8qd-"
      },
      "source": [
        "### RAG Limitation\n",
        "\n",
        "Notice how we're hard-coding our data, while this is simply meant to be an illustrative example - you could easily extend this to work with any provied paper or document in order to have a more dynamic system.\n",
        "\n",
        "For now, we'll stick with this single hard-coded example in order to keep complexity down in an already very long notebook!"
      ]
    },
    {
      "cell_type": "markdown",
      "metadata": {
        "id": "oxkbuir-H5rE"
      },
      "source": [
        "##### 🏗️ Activity #1 (Bonus Marks)\n",
        "\n",
        "Allow the system to dynamically fetch Arxiv papers instead of hard coding them.\n",
        "\n",
        "> HINT: Tuesday's assignment will be very useful here.\n",
        "##### ✅ Answer"
      ]
    },
    {
      "cell_type": "code",
      "execution_count": 19,
      "metadata": {
        "colab": {
          "base_uri": "https://localhost:8080/"
        },
        "id": "Adz_esMwOXmU",
        "outputId": "fd7438cf-ce2a-4c91-b687-e42d7b484201"
      },
      "outputs": [
        {
          "name": "stdout",
          "output_type": "stream",
          "text": [
            "Collecting arxiv\n",
            "  Downloading arxiv-2.1.3-py3-none-any.whl.metadata (6.1 kB)\n",
            "Collecting feedparser~=6.0.10 (from arxiv)\n",
            "  Downloading feedparser-6.0.11-py3-none-any.whl.metadata (2.4 kB)\n",
            "Requirement already satisfied: requests~=2.32.0 in /usr/local/lib/python3.11/dist-packages (from arxiv) (2.32.3)\n",
            "Collecting sgmllib3k (from feedparser~=6.0.10->arxiv)\n",
            "  Downloading sgmllib3k-1.0.0.tar.gz (5.8 kB)\n",
            "  Preparing metadata (setup.py) ... \u001b[?25l\u001b[?25hdone\n",
            "Requirement already satisfied: charset-normalizer<4,>=2 in /usr/local/lib/python3.11/dist-packages (from requests~=2.32.0->arxiv) (3.4.1)\n",
            "Requirement already satisfied: idna<4,>=2.5 in /usr/local/lib/python3.11/dist-packages (from requests~=2.32.0->arxiv) (3.10)\n",
            "Requirement already satisfied: urllib3<3,>=1.21.1 in /usr/local/lib/python3.11/dist-packages (from requests~=2.32.0->arxiv) (2.3.0)\n",
            "Requirement already satisfied: certifi>=2017.4.17 in /usr/local/lib/python3.11/dist-packages (from requests~=2.32.0->arxiv) (2024.12.14)\n",
            "Downloading arxiv-2.1.3-py3-none-any.whl (11 kB)\n",
            "Downloading feedparser-6.0.11-py3-none-any.whl (81 kB)\n",
            "\u001b[2K   \u001b[90m━━━━━━━━━━━━━━━━━━━━━━━━━━━━━━━━━━━━━━━━\u001b[0m \u001b[32m81.3/81.3 kB\u001b[0m \u001b[31m6.4 MB/s\u001b[0m eta \u001b[36m0:00:00\u001b[0m\n",
            "\u001b[?25hBuilding wheels for collected packages: sgmllib3k\n",
            "  Building wheel for sgmllib3k (setup.py) ... \u001b[?25l\u001b[?25hdone\n",
            "  Created wheel for sgmllib3k: filename=sgmllib3k-1.0.0-py3-none-any.whl size=6047 sha256=65775c6723976af665477d06c76db3ec99e59cdac310c13af1137a5b3df0639c\n",
            "  Stored in directory: /root/.cache/pip/wheels/3b/25/2a/105d6a15df6914f4d15047691c6c28f9052cc1173e40285d03\n",
            "Successfully built sgmllib3k\n",
            "Installing collected packages: sgmllib3k, feedparser, arxiv\n",
            "Successfully installed arxiv-2.1.3 feedparser-6.0.11 sgmllib3k-1.0.0\n"
          ]
        }
      ],
      "source": [
        "pip install arxiv"
      ]
    },
    {
      "cell_type": "code",
      "execution_count": 20,
      "metadata": {
        "colab": {
          "base_uri": "https://localhost:8080/"
        },
        "id": "QmW0FWhEOj5u",
        "outputId": "f2ebab19-be35-4bf5-c052-b7a676979eb3"
      },
      "outputs": [
        {
          "name": "stderr",
          "output_type": "stream",
          "text": [
            "<ipython-input-20-c940a2aee5b6>:11: DeprecationWarning: The 'Search.results' method is deprecated, use 'Client.results' instead\n",
            "  result = next(search.results(), None)\n"
          ]
        },
        {
          "name": "stdout",
          "output_type": "stream",
          "text": [
            "Low-Rank Adapting Models for Sparse Autoencoders\n",
            "Matthew Chen * 1 Joshua Engels * 1 Max Tegmark 1\n",
            "Abstract\n",
            "Sparse autoencoders (SAEs) decompose language\n",
            "model representations into a sparse set of linear\n",
            "latent vectors. Recent works have improved SAEs\n",
            "using language model gradients, but these tech-\n",
            "niques require many expensive backward passes\n",
            "during training and still cause a significant in-\n",
            "crease in cross entropy loss when SAE reconstruc-\n",
            "tions are inserted into the model. In this work,\n",
            "we imp\n"
          ]
        }
      ],
      "source": [
        "import arxiv\n",
        "import os\n",
        "import requests\n",
        "from langchain.document_loaders import PyMuPDFLoader\n",
        "\n",
        "def load_arxiv_paper(query):\n",
        "    # Search for the latest paper matching the query\n",
        "    search = arxiv.Search(query=query, max_results=1, sort_by=arxiv.SortCriterion.SubmittedDate)\n",
        "\n",
        "    # Get the first result\n",
        "    result = next(search.results(), None)\n",
        "\n",
        "    if not result:\n",
        "        raise Exception(\"No results found for the given query.\")\n",
        "\n",
        "    pdf_url = result.pdf_url\n",
        "    arxiv_id = result.entry_id.split('/')[-1]  # Extract ArXiv ID from the URL\n",
        "    pdf_path = f\"{arxiv_id}.pdf\"\n",
        "\n",
        "    # Download the PDF\n",
        "    response = requests.get(pdf_url)\n",
        "    if response.status_code == 200:\n",
        "        with open(pdf_path, \"wb\") as f:\n",
        "            f.write(response.content)\n",
        "    else:\n",
        "        raise Exception(f\"Failed to download ArXiv paper: {pdf_url}\")\n",
        "\n",
        "    # Load the PDF using PyMuPDFLoader\n",
        "    loader = PyMuPDFLoader(pdf_path)\n",
        "    docs = loader.load()\n",
        "\n",
        "    # Cleanup: Remove the downloaded PDF file\n",
        "    os.remove(pdf_path)\n",
        "\n",
        "    return docs\n",
        "\n",
        "# Example usage\n",
        "query = \"large language models\"\n",
        "documents = load_arxiv_paper(query)\n",
        "\n",
        "# Print the first 500 characters from the first page\n",
        "print(documents[0].page_content[:500])"
      ]
    },
    {
      "cell_type": "markdown",
      "metadata": {
        "id": "7U6a_pqQ9uWf"
      },
      "source": [
        "## Task 2: Helper Functions for Agent Graphs\n",
        "\n",
        "We'll be using a number of agents, nodes, and supervisors in the rest of the notebook - and so it will help to have a collection of useful helper functions that we can leverage to make our lives easier going forward.\n",
        "\n",
        "Let's start with the most simple one!"
      ]
    },
    {
      "cell_type": "markdown",
      "metadata": {
        "id": "IDUnpEEl-L_F"
      },
      "source": [
        "#### Import Wall\n",
        "\n",
        "Here's a wall of imports we'll be needing going forward!"
      ]
    },
    {
      "cell_type": "code",
      "execution_count": 21,
      "metadata": {
        "id": "TbzoL3Q3-SG1"
      },
      "outputs": [],
      "source": [
        "from typing import Any, Callable, List, Optional, TypedDict, Union\n",
        "\n",
        "from langchain.agents import AgentExecutor, create_openai_functions_agent\n",
        "from langchain.output_parsers.openai_functions import JsonOutputFunctionsParser\n",
        "from langchain_core.prompts import ChatPromptTemplate, MessagesPlaceholder\n",
        "from langchain_core.messages import AIMessage, BaseMessage, HumanMessage\n",
        "from langchain_core.runnables import Runnable\n",
        "from langchain_core.tools import BaseTool\n",
        "from langchain_openai import ChatOpenAI\n",
        "\n",
        "from langgraph.graph import END, StateGraph"
      ]
    },
    {
      "cell_type": "markdown",
      "metadata": {
        "id": "qb6Z3EEz-Asi"
      },
      "source": [
        "### Agent Node Helper\n",
        "\n",
        "Since we're going to be wrapping each of our agents into a node - it will help to have an easy way to create the node!"
      ]
    },
    {
      "cell_type": "code",
      "execution_count": 22,
      "metadata": {
        "id": "5IF7KWfS-JKd"
      },
      "outputs": [],
      "source": [
        "def agent_node(state, agent, name):\n",
        "    result = agent.invoke(state)\n",
        "    return {\"messages\": [HumanMessage(content=result[\"output\"], name=name)]}"
      ]
    },
    {
      "cell_type": "markdown",
      "metadata": {
        "id": "fwND2teK-WHm"
      },
      "source": [
        "### Agent Creation Helper Function\n",
        "\n",
        "Since we know we'll need to create agents to populate our agent nodes, let's use a helper function for that as well!\n",
        "\n",
        "Notice a few things:\n",
        "\n",
        "1. We have a standard suffix to append to our system messages for each agent to handle the tool calling and boilerplate prompting.\n",
        "2. Each agent has its our scratchpad.\n",
        "3. We're relying on OpenAI's function-calling API for tool selection\n",
        "4. Each agent is its own executor."
      ]
    },
    {
      "cell_type": "code",
      "execution_count": 23,
      "metadata": {
        "id": "NxLyHJt5-eUx"
      },
      "outputs": [],
      "source": [
        "def create_agent(\n",
        "    llm: ChatOpenAI,\n",
        "    tools: list,\n",
        "    system_prompt: str,\n",
        ") -> str:\n",
        "    \"\"\"Create a function-calling agent and add it to the graph.\"\"\"\n",
        "    system_prompt += (\"\\nWork autonomously according to your specialty, using the tools available to you.\"\n",
        "    \" Do not ask for clarification.\"\n",
        "    \" Your other team members (and other teams) will collaborate with you with their own specialties.\"\n",
        "    \" You are chosen for a reason! You are one of the following team members: {team_members}.\")\n",
        "    prompt = ChatPromptTemplate.from_messages(\n",
        "        [\n",
        "            (\n",
        "                \"system\",\n",
        "                system_prompt,\n",
        "            ),\n",
        "            MessagesPlaceholder(variable_name=\"messages\"),\n",
        "            MessagesPlaceholder(variable_name=\"agent_scratchpad\"),\n",
        "        ]\n",
        "    )\n",
        "    agent = create_openai_functions_agent(llm, tools, prompt)\n",
        "    executor = AgentExecutor(agent=agent, tools=tools)\n",
        "    return executor"
      ]
    },
    {
      "cell_type": "markdown",
      "metadata": {
        "id": "S6kmlR9d-1K5"
      },
      "source": [
        "### Supervisor Helper Function\n",
        "\n",
        "Finally, we need a \"supervisor\" that decides and routes tasks to specific agents.\n",
        "\n",
        "Since each \"team\" will have a collection of potential agents - this \"supervisor\" will act as an \"intelligent\" router to make sure that the right agent is selected for the right task.\n",
        "\n",
        "Notice that, at the end of the day, this \"supervisor\" is simply directing who acts next - or if the state is considered \"done\"."
      ]
    },
    {
      "cell_type": "code",
      "execution_count": 24,
      "metadata": {
        "id": "S2MXA83mrYE2"
      },
      "outputs": [],
      "source": [
        "def create_team_supervisor(llm: ChatOpenAI, system_prompt, members) -> str:\n",
        "    \"\"\"An LLM-based router.\"\"\"\n",
        "    options = [\"FINISH\"] + members\n",
        "    function_def = {\n",
        "        \"name\": \"route\",\n",
        "        \"description\": \"Select the next role.\",\n",
        "        \"parameters\": {\n",
        "            \"title\": \"routeSchema\",\n",
        "            \"type\": \"object\",\n",
        "            \"properties\": {\n",
        "                \"next\": {\n",
        "                    \"title\": \"Next\",\n",
        "                    \"anyOf\": [\n",
        "                        {\"enum\": options},\n",
        "                    ],\n",
        "                },\n",
        "            },\n",
        "            \"required\": [\"next\"],\n",
        "        },\n",
        "    }\n",
        "    prompt = ChatPromptTemplate.from_messages(\n",
        "        [\n",
        "            (\"system\", system_prompt),\n",
        "            MessagesPlaceholder(variable_name=\"messages\"),\n",
        "            (\n",
        "                \"system\",\n",
        "                \"Given the conversation above, who should act next?\"\n",
        "                \" Or should we FINISH? Select one of: {options}\",\n",
        "            ),\n",
        "        ]\n",
        "    ).partial(options=str(options), team_members=\", \".join(members))\n",
        "    return (\n",
        "        prompt\n",
        "        | llm.bind_functions(functions=[function_def], function_call=\"route\")\n",
        "        | JsonOutputFunctionsParser()\n",
        "    )"
      ]
    },
    {
      "cell_type": "markdown",
      "metadata": {
        "id": "jd0zfyq48jKb"
      },
      "source": [
        "## Task 3: Research Team - A LangGraph for Researching A Specific Topic\n",
        "\n",
        "Now that we have our RAG chain set-up and some awesome helper functions, we want to create a LangGraph related to researching a specific topic.\n",
        "\n",
        "We're going to start by equipping our Research Team with a few tools:\n",
        "\n",
        "1. Tavily Search - aka \"Google\", for the most up to date information possible.\n",
        "2. Our RAG chain - specific and high quality information about our topic.\n",
        "\n",
        "Let's create those tools now!"
      ]
    },
    {
      "cell_type": "markdown",
      "metadata": {
        "id": "VNsVTZrH_alw"
      },
      "source": [
        "### Tool Creation\n",
        "\n",
        "As you can see below, some tools already come pre-packaged ready to use!"
      ]
    },
    {
      "cell_type": "code",
      "execution_count": 25,
      "metadata": {
        "id": "ce7FKTZDgAWG"
      },
      "outputs": [],
      "source": [
        "from langchain_community.tools.tavily_search import TavilySearchResults\n",
        "\n",
        "tavily_tool = TavilySearchResults(max_results=5)"
      ]
    },
    {
      "cell_type": "markdown",
      "metadata": {
        "id": "NIR7cbTL9agM"
      },
      "source": [
        "Creating a custom tool, however, is very straightforward.\n",
        "\n",
        "> NOTE: You *must* include a docstring, as that is what the LLM will consider when deciding when to use this tool."
      ]
    },
    {
      "cell_type": "code",
      "execution_count": 26,
      "metadata": {
        "id": "sSwO2L_UqFhm"
      },
      "outputs": [],
      "source": [
        "from typing import Annotated, List, Tuple, Union\n",
        "from langchain_core.tools import tool\n",
        "\n",
        "@tool\n",
        "def retrieve_information(\n",
        "    query: Annotated[str, \"query to ask the retrieve information tool\"]\n",
        "    ):\n",
        "  \"\"\"Use Retrieval Augmented Generation to retrieve information about the 'Extending Llama-3’s Context Ten-Fold Overnight' paper.\"\"\"\n",
        "  return rag_chain.invoke({\"question\" : query})"
      ]
    },
    {
      "cell_type": "markdown",
      "metadata": {
        "id": "nxsMnqjpBTCj"
      },
      "source": [
        "> NOTE: We could just as easily use the LCEL chain directly, since nodes can be LCEL objects - but creating a tool helps explain the tool creation process at the same time."
      ]
    },
    {
      "cell_type": "markdown",
      "metadata": {
        "id": "oDHCajO4_gB2"
      },
      "source": [
        "### Research Team State\n",
        "\n",
        "Since we're using LangGraph - we're going to need state!\n",
        "\n",
        "Let's look at how we've created our state below."
      ]
    },
    {
      "cell_type": "code",
      "execution_count": 27,
      "metadata": {
        "id": "mXminK9d_1fa"
      },
      "outputs": [],
      "source": [
        "import functools\n",
        "import operator\n",
        "\n",
        "from langchain_core.messages import AIMessage, BaseMessage, HumanMessage\n",
        "from langchain_openai.chat_models import ChatOpenAI\n",
        "import functools\n",
        "\n",
        "class ResearchTeamState(TypedDict):\n",
        "    messages: Annotated[List[BaseMessage], operator.add]\n",
        "    team_members: List[str]\n",
        "    next: str"
      ]
    },
    {
      "cell_type": "markdown",
      "metadata": {
        "id": "fvPM5msq_18C"
      },
      "source": [
        "Notice how we've used `messages`, `team_members`, and `next`.\n",
        "\n",
        "These states will help us understand:\n",
        "\n",
        "1. What we've done so far (`messages`)\n",
        "2. Which team members we have access to (`team_members`)\n",
        "3. Which team member is up next! (`next`)"
      ]
    },
    {
      "cell_type": "markdown",
      "metadata": {
        "id": "Mu7B_6qHAFjK"
      },
      "source": [
        "### Research Team LLM\n",
        "\n",
        "We'll be using `gpt-4-turbo` today. This LLM is going to be doing a lot of reasoning - and so using a \"powerful\" LLM is very important here!"
      ]
    },
    {
      "cell_type": "code",
      "execution_count": 28,
      "metadata": {
        "id": "dTNqrip8AcKR"
      },
      "outputs": [],
      "source": [
        "llm = ChatOpenAI(model=\"gpt-4-turbo\")"
      ]
    },
    {
      "cell_type": "markdown",
      "metadata": {
        "id": "pfb_VCNKIy9w"
      },
      "source": [
        "##### ❓ Question #1:\n",
        "\n",
        "Why is a \"powerful\" LLM important for this use-case?\n",
        "\n",
        "What tasks must our Agent perform that make it such that the LLM's reasoning capability is a potential limiter?\n",
        "\n",
        "\n",
        "##### ✅  Answer #1:\n",
        "In a multi-agent RAG (Retrieval-Augmented Generation) application, a **powerful** LLM like `gpt-4-turbo` is important because the system involves multiple agents working together, often requiring advanced reasoning, orchestration, and synthesis of retrieved information. Here’s why a strong LLM is necessary:\n",
        "\n",
        "### **Why is a \"powerful\" LLM important?**\n",
        "1. **Complex Coordination Between Agents**  \n",
        "   - In a multi-agent system, different agents specialize in tasks (e.g., retrieval, summarization, reasoning, validation). A powerful LLM can manage and coordinate their interactions more effectively.\n",
        "   \n",
        "2. **Context Understanding & Memory Handling**  \n",
        "   - The LLM needs to track multi-turn interactions, maintain context across agent conversations, and synthesize large amounts of retrieved information without losing coherence.\n",
        "\n",
        "3. **Advanced Reasoning & Decision Making**  \n",
        "   - Some agents may propose conflicting information or uncertain retrievals. A strong LLM helps resolve inconsistencies, weigh evidence, and provide reasoned conclusions.\n",
        "\n",
        "4. **Efficient Information Compression & Synthesis**  \n",
        "   - RAG-based applications rely on retrieving multiple knowledge chunks. A high-level LLM is needed to condense, structure, and interpret the data accurately.\n",
        "\n",
        "5. **Handling Ambiguity & Edge Cases**  \n",
        "   - Weaker models may struggle with unclear queries, partial evidence, or ambiguous phrasing. A powerful LLM improves response robustness.\n",
        "\n",
        "### **What Tasks Require Strong Reasoning?**\n",
        "Here are the key tasks an agent must perform that would stress the LLM’s reasoning capability:\n",
        "\n",
        "1. **Dynamic Query Rewriting**  \n",
        "   - Some agents reformulate user queries to retrieve more relevant documents. This requires a deep understanding of the user’s intent and domain knowledge.\n",
        "\n",
        "2. **Multi-Step Deductive & Inductive Reasoning**  \n",
        "   - Some agents must combine retrieved facts across multiple sources to infer new knowledge, solve problems, or make predictions.\n",
        "\n",
        "3. **Fact-Checking & Contradiction Resolution**  \n",
        "   - An agent must assess retrieved content for inconsistencies and filter out unreliable or contradictory information.\n",
        "\n",
        "4. **Strategic Tool Use & API Calls**  \n",
        "   - If the system integrates external tools (e.g., databases, web search, code execution), the LLM must reason about which tools to use and when.\n",
        "\n",
        "5. **Context-Aware Decision Making**  \n",
        "   - Agents may need to determine whether enough information has been gathered or if further retrieval is required before responding.\n",
        "\n",
        "6. **Adaptive Problem-Solving Across Domains**  \n",
        "   - Some applications require answering diverse questions (legal, medical, scientific) where generalist reasoning ability is key."
      ]
    },
    {
      "cell_type": "markdown",
      "metadata": {
        "id": "ZR_1LuMKAekf"
      },
      "source": [
        "### Research Team Agents & Nodes\n",
        "\n",
        "Now we can use our helper functions to create our agent nodes, with their related tools.\n",
        "\n",
        "Let's start with our search agent node."
      ]
    },
    {
      "cell_type": "markdown",
      "metadata": {
        "id": "uzx6wuPoAlPq"
      },
      "source": [
        "#### Research Team: Search Agent\n",
        "\n",
        "We're going to give our agent access to the Tavily tool, power it with our GPT-4 Turbo model, and then create its node - and name it `Search`."
      ]
    },
    {
      "cell_type": "code",
      "execution_count": 29,
      "metadata": {
        "id": "FIlLPxj7Atpj"
      },
      "outputs": [],
      "source": [
        "search_agent = create_agent(\n",
        "    llm,\n",
        "    [tavily_tool],\n",
        "    \"You are a research assistant who can search for up-to-date info using the tavily search engine.\",\n",
        ")\n",
        "search_node = functools.partial(agent_node, agent=search_agent, name=\"Search\")"
      ]
    },
    {
      "cell_type": "markdown",
      "metadata": {
        "id": "emLtesudA9Dd"
      },
      "source": [
        "#### Research Team: RAG Agent Node\n",
        "\n",
        "Now we can wrap our LCEL RAG pipeline in an agent node as well, using the LCEL RAG pipeline as the tool, as created above."
      ]
    },
    {
      "cell_type": "code",
      "execution_count": 30,
      "metadata": {
        "id": "z-nnAG9XA_p7"
      },
      "outputs": [],
      "source": [
        "research_agent = create_agent(\n",
        "    llm,\n",
        "    [retrieve_information],\n",
        "    \"You are a research assistant who can provide specific information on the provided paper: 'Extending Llama-3’s Context Ten-Fold Overnight'. You must only respond with information about the paper related to the request.\",\n",
        ")\n",
        "research_node = functools.partial(agent_node, agent=research_agent, name=\"PaperInformationRetriever\")"
      ]
    },
    {
      "cell_type": "markdown",
      "metadata": {
        "id": "dA5z6T1CBeSc"
      },
      "source": [
        "### Research Team Supervisor Agent\n",
        "\n",
        "Notice that we're not yet creating our supervisor *node*, simply the agent here.\n",
        "\n",
        "Also notice how we need to provide a few extra pieces of information - including which tools we're using.\n",
        "\n",
        "> NOTE: It's important to use the *exact* tool name, as that is how the LLM will reference the tool. Also, it's important that your tool name is all a single alphanumeric string!\n",
        "\n"
      ]
    },
    {
      "cell_type": "code",
      "execution_count": 31,
      "metadata": {
        "id": "J0g8CQMBrtFs"
      },
      "outputs": [],
      "source": [
        "supervisor_agent = create_team_supervisor(\n",
        "    llm,\n",
        "    (\"You are a supervisor tasked with managing a conversation between the\"\n",
        "    \" following workers:  Search, PaperInformationRetriever. Given the following user request,\"\n",
        "    \" determine the subject to be researched and respond with the worker to act next. Each worker will perform a\"\n",
        "    \" task and respond with their results and status. \"\n",
        "    \" You should never ask your team to do anything beyond research. They are not required to write content or posts.\"\n",
        "    \" You should only pass tasks to workers that are specifically research focused.\"\n",
        "    \" When finished, respond with FINISH.\"),\n",
        "    [\"Search\", \"PaperInformationRetriever\"],\n",
        ")"
      ]
    },
    {
      "cell_type": "markdown",
      "metadata": {
        "id": "qohn0DcgB_U1"
      },
      "source": [
        "### Research Team Graph Creation\n",
        "\n",
        "Now that we have our research team agent nodes created, and our supervisor agent - let's finally construct our graph!\n",
        "\n",
        "We'll start by creating our base graph from our state, and then adding the nodes/agent we've created as nodes on our LangGraph."
      ]
    },
    {
      "cell_type": "code",
      "execution_count": 32,
      "metadata": {
        "id": "p0s2GAgJCN8G"
      },
      "outputs": [],
      "source": [
        "research_graph = StateGraph(ResearchTeamState)\n",
        "\n",
        "research_graph.add_node(\"Search\", search_node)\n",
        "research_graph.add_node(\"PaperInformationRetriever\", research_node)\n",
        "research_graph.add_node(\"supervisor\", supervisor_agent)"
      ]
    },
    {
      "cell_type": "markdown",
      "metadata": {
        "id": "33qixRGNCaAX"
      },
      "source": [
        "Now we can define our edges - include our conditional edge from our supervisor to our agent nodes.\n",
        "\n",
        "Notice how we're always routing our agent nodes back to our supervisor!"
      ]
    },
    {
      "cell_type": "code",
      "execution_count": 33,
      "metadata": {
        "id": "yYSJIhijsGyg"
      },
      "outputs": [],
      "source": [
        "research_graph.add_edge(\"Search\", \"supervisor\")\n",
        "research_graph.add_edge(\"PaperInformationRetriever\", \"supervisor\")\n",
        "research_graph.add_conditional_edges(\n",
        "    \"supervisor\",\n",
        "    lambda x: x[\"next\"],\n",
        "    {\"Search\": \"Search\", \"PaperInformationRetriever\": \"PaperInformationRetriever\", \"FINISH\": END},\n",
        ")"
      ]
    },
    {
      "cell_type": "markdown",
      "metadata": {
        "id": "hgGcuZzkCj1-"
      },
      "source": [
        "Now we can set our supervisor node as the entry point, and compile our graph!"
      ]
    },
    {
      "cell_type": "code",
      "execution_count": 34,
      "metadata": {
        "id": "1l-1I2Z3CnPX"
      },
      "outputs": [],
      "source": [
        "research_graph.set_entry_point(\"supervisor\")\n",
        "chain = research_graph.compile()"
      ]
    },
    {
      "cell_type": "markdown",
      "metadata": {
        "id": "GDwQpYTSEY13"
      },
      "source": [
        "#### Display Graph"
      ]
    },
    {
      "cell_type": "code",
      "execution_count": 35,
      "metadata": {
        "colab": {
          "base_uri": "https://localhost:8080/",
          "height": 488
        },
        "id": "l8n6SXhpEa2b",
        "outputId": "65dfceb6-d9bc-43ac-f59d-7daf8cbc4cb6"
      },
      "outputs": [
        {
          "data": {
            "image/jpeg": "[encoded data removed]",
            "text/plain": [
              "<IPython.core.display.Image object>"
            ]
          },
          "metadata": {},
          "output_type": "display_data"
        }
      ],
      "source": [
        "from IPython.display import Image, display\n",
        "\n",
        "try:\n",
        "    display(Image(chain.get_graph(xray=True).draw_mermaid_png()))\n",
        "except:\n",
        "    pass"
      ]
    },
    {
      "cell_type": "markdown",
      "metadata": {
        "id": "bfRvA2QfCqFL"
      },
      "source": [
        "The next part is key - since we need to \"wrap\" our LangGraph in order for it to be compatible in the following steps - let's create an LCEL chain out of it!\n",
        "\n",
        "This allows us to \"broadcast\" messages down to our Research Team LangGraph!"
      ]
    },
    {
      "cell_type": "code",
      "execution_count": 36,
      "metadata": {
        "id": "1G7hmEINCx3i"
      },
      "outputs": [],
      "source": [
        "def enter_chain(message: str):\n",
        "    results = {\n",
        "        \"messages\": [HumanMessage(content=message)],\n",
        "    }\n",
        "    return results\n",
        "\n",
        "research_chain = enter_chain | chain"
      ]
    },
    {
      "cell_type": "markdown",
      "metadata": {
        "id": "EGdoCdXWC7Pi"
      },
      "source": [
        "Now, finally, we can take it for a spin!"
      ]
    },
    {
      "cell_type": "code",
      "execution_count": 37,
      "metadata": {
        "colab": {
          "base_uri": "https://localhost:8080/"
        },
        "id": "xIDpFIg2sRUl",
        "outputId": "f86ebdb9-0038-4ad7-8354-104a2a4a0f5c"
      },
      "outputs": [
        {
          "name": "stdout",
          "output_type": "stream",
          "text": [
            "{'supervisor': {'next': 'Search'}}\n",
            "---\n",
            "{'Search': {'messages': [HumanMessage(content='The main takeaways from the paper \"Extending Llama-3\\'s Context Ten-Fold Overnight\" include:\\n\\n1. **Extension of Context Length**: The researchers successfully extended the context length of the Llama-3-8B-Instruct model from 8,000 tokens to 80,000 tokens. This was accomplished through a technique called QLoRA fine-tuning.\\n\\n2. **Use of Synthetic Training Data**: The extension of the context was achieved using a relatively small set of 3,500 synthetic training samples. These samples were generated by a more powerful language model, GPT-4.\\n\\n3. **Efficiency of Training Process**: The training process to extend the context was highly efficient, taking only 8 hours using one 8xA800 (80G) GPU machine.\\n\\n4. **Performance Across Benchmarks**: The extended model exhibited superior performance across a range of evaluation tasks, including NIHS, topic retrieval, and long-context language understanding. However, it underperformed in code completion tasks compared to baselines.\\n\\n5. **Availability of Resources**: The model, training data, and code used in this research are publicly available, encouraging further research in training long-context large language models (LLMs).\\n\\n6. **Overall Impact**: The study demonstrates a significant breakthrough in extending the context length for LLMs, showing that large language models can handle longer contexts efficiently with additional computational resources and innovative training techniques.\\n\\nThese insights contribute to advancing the capabilities of large language models in processing and understanding extended contexts, which is crucial for improving their application in real-world scenarios.', name='Search')]}}\n",
            "---\n",
            "{'supervisor': {'next': 'FINISH'}}\n",
            "---\n"
          ]
        }
      ],
      "source": [
        "for s in research_chain.stream(\n",
        "    \"What are the main takeaways from the paper `Extending Llama-3's Context Ten-Fold Overnight'? Please use Search and PaperInformationRetriever!\", {\"recursion_limit\": 100}\n",
        "):\n",
        "    if \"__end__\" not in s:\n",
        "        print(s)\n",
        "        print(\"---\")"
      ]
    },
    {
      "cell_type": "markdown",
      "metadata": {
        "id": "DHAgsbwIIhwj"
      },
      "source": [
        "##### 🏗️ Activity #2:\n",
        "\n",
        "Using whatever drawing application you wish - please label the flow above on a diagram of your graph.\n",
        "\n",
        "\n",
        "##### ✅ Answer #2:\n",
        "![flow (1).png](data:image/png;base64,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)"
      ]
    },
    {
      "cell_type": "markdown",
      "metadata": {
        "id": "eH70eHGlJbq4"
      },
      "source": [
        "##### ❓ Question #2:\n",
        "\n",
        "How could you make sure your Agent uses specific tools that you wish it to use? Are there any ways to concretely set a flow through tools?\n",
        "\n",
        "\n",
        "##### ✅ Answer #2:\n",
        "To ensure that your Agent uses specific tools in a **structured flow**, these are few following strategies:\n",
        "\n",
        "###### **1. Explicit Tool Selection & Routing Logic**\n",
        "- Define a **Supervisor Agent** (like in your diagram) that decides which tool should be used based on the task.\n",
        "- Use **if-else conditions** or a **state machine** to enforce a structured flow.\n",
        "- Example:\n",
        "  ```python\n",
        "  if task == \"search\":\n",
        "      agent.use_tool(\"Tavily\")\n",
        "  elif task == \"retrieve\":\n",
        "      agent.use_tool(\"PaperInformationRetriever\")\n",
        "  ```\n",
        "\n",
        "###### **2. Restricting Available Tools per Agent**\n",
        "- Ensure each agent has access only to the **relevant tools**.\n",
        "- Example:\n",
        "  ```python\n",
        "  search_agent = Agent(\n",
        "      tools=[TavilySearchTool],  # Only search tools allowed\n",
        "      llm=ChatOpenAI(model=\"gpt-4-turbo\")\n",
        "  )\n",
        "  ```\n",
        "\n",
        "###### **3. Using Tool Calling Constraints**\n",
        "- If using OpenAI function calling or LangChain, **define function signatures** that constrain tool use.\n",
        "- Example:\n",
        "  ```python\n",
        "  tools = [\n",
        "      Tool(name=\"search\", func=tavily_search, description=\"Search the web\"),\n",
        "      Tool(name=\"retrieve\", func=paper_info_retriever, description=\"Retrieve academic papers\")\n",
        "  ]\n",
        "  llm = ChatOpenAI(model=\"gpt-4-turbo\").with_tools(tools)\n",
        "  ```\n",
        "\n",
        "###### **4. Setting a Deterministic Flow with a Task Manager**\n",
        "- Instead of letting the LLM decide freely, enforce a **sequential flow**.\n",
        "- Example using LangChain:\n",
        "  ```python\n",
        "  workflow = SequentialChain(chains=[search_agent, retrieval_agent, final_summarizer])\n",
        "  ```\n",
        "\n",
        "###### **5. Define a Step-by-Step Workflow in a Prompt**\n",
        "- Use **system prompts** to instruct the agent on the exact flow.\n",
        "- Example:\n",
        "  ```\n",
        "  You must first use \"Tavily\" for web search. Then, use \"PaperInformationRetriever\" to fetch papers. Finally, summarize the results.\n"
      ]
    },
    {
      "cell_type": "markdown",
      "metadata": {
        "id": "iktcBorGXmAW"
      },
      "source": [
        "# 🤝 BREAKOUT ROOM #2"
      ]
    },
    {
      "cell_type": "markdown",
      "metadata": {
        "id": "ejsHCZZ2EmwM"
      },
      "source": [
        "## Task 4: Document Writing Team - A LangGraph for Writing, Editing, and Planning a LinkedIn post.\n",
        "\n",
        "Let's run it all back, this time specifically creating tools, agent nodes, and a graph for planning, writing, and editing a LinkedIn post!"
      ]
    },
    {
      "cell_type": "markdown",
      "metadata": {
        "id": "4awQtZ-oFUN-"
      },
      "source": [
        "### Tool Creation\n",
        "\n",
        "Let's create some tools that will help us understand, open, work with, and edit documents to our liking!"
      ]
    },
    {
      "cell_type": "code",
      "execution_count": 39,
      "metadata": {
        "id": "ptXilgparOkq"
      },
      "outputs": [],
      "source": [
        "from pathlib import Path\n",
        "from tempfile import TemporaryDirectory\n",
        "from typing import Dict, Optional\n",
        "from typing_extensions import TypedDict\n",
        "import uuid\n",
        "import os\n",
        "\n",
        "os.makedirs('/content/data', exist_ok=True)\n",
        "\n",
        "def create_random_subdirectory():\n",
        "    random_id = str(uuid.uuid4())[:8]  # Use first 8 characters of a UUID\n",
        "    subdirectory_path = os.path.join('/content/data', random_id)\n",
        "    os.makedirs(subdirectory_path, exist_ok=True)\n",
        "    return subdirectory_path\n",
        "\n",
        "WORKING_DIRECTORY = Path(create_random_subdirectory())\n",
        "\n",
        "@tool\n",
        "def create_outline(\n",
        "    points: Annotated[List[str], \"List of main points or sections.\"],\n",
        "    file_name: Annotated[str, \"File path to save the outline.\"],\n",
        ") -> Annotated[str, \"Path of the saved outline file.\"]:\n",
        "    \"\"\"Create and save an outline.\"\"\"\n",
        "    with (WORKING_DIRECTORY / file_name).open(\"w\") as file:\n",
        "        for i, point in enumerate(points):\n",
        "            file.write(f\"{i + 1}. {point}\\n\")\n",
        "    return f\"Outline saved to {file_name}\"\n",
        "\n",
        "\n",
        "@tool\n",
        "def read_document(\n",
        "    file_name: Annotated[str, \"File path to save the document.\"],\n",
        "    start: Annotated[Optional[int], \"The start line. Default is 0\"] = None,\n",
        "    end: Annotated[Optional[int], \"The end line. Default is None\"] = None,\n",
        ") -> str:\n",
        "    \"\"\"Read the specified document.\"\"\"\n",
        "    with (WORKING_DIRECTORY / file_name).open(\"r\") as file:\n",
        "        lines = file.readlines()\n",
        "    if start is not None:\n",
        "        start = 0\n",
        "    return \"\\n\".join(lines[start:end])\n",
        "\n",
        "\n",
        "@tool\n",
        "def write_document(\n",
        "    content: Annotated[str, \"Text content to be written into the document.\"],\n",
        "    file_name: Annotated[str, \"File path to save the document.\"],\n",
        ") -> Annotated[str, \"Path of the saved document file.\"]:\n",
        "    \"\"\"Create and save a text document.\"\"\"\n",
        "    with (WORKING_DIRECTORY / file_name).open(\"w\") as file:\n",
        "        file.write(content)\n",
        "    return f\"Document saved to {file_name}\"\n",
        "\n",
        "\n",
        "@tool\n",
        "def edit_document(\n",
        "    file_name: Annotated[str, \"Path of the document to be edited.\"],\n",
        "    inserts: Annotated[\n",
        "        Dict[int, str],\n",
        "        \"Dictionary where key is the line number (1-indexed) and value is the text to be inserted at that line.\",\n",
        "    ] = {},\n",
        ") -> Annotated[str, \"Path of the edited document file.\"]:\n",
        "    \"\"\"Edit a document by inserting text at specific line numbers.\"\"\"\n",
        "\n",
        "    with (WORKING_DIRECTORY / file_name).open(\"r\") as file:\n",
        "        lines = file.readlines()\n",
        "\n",
        "    sorted_inserts = sorted(inserts.items())\n",
        "\n",
        "    for line_number, text in sorted_inserts:\n",
        "        if 1 <= line_number <= len(lines) + 1:\n",
        "            lines.insert(line_number - 1, text + \"\\n\")\n",
        "        else:\n",
        "            return f\"Error: Line number {line_number} is out of range.\"\n",
        "\n",
        "    with (WORKING_DIRECTORY / file_name).open(\"w\") as file:\n",
        "        file.writelines(lines)\n",
        "\n",
        "    return f\"Document edited and saved to {file_name}\""
      ]
    },
    {
      "cell_type": "markdown",
      "metadata": {
        "id": "n8yH1IAYK7nL"
      },
      "source": [
        "##### 🏗️ Activity #3:\n",
        "\n",
        "Describe, briefly, what each of these tools is doing in your own words.\n",
        "\n",
        "##### ✅ Answer #3:\n",
        "Here’s a brief breakdown of what each tool does in this script:  \n",
        "\n",
        "1. **`create_outline`**  \n",
        "   - Takes a list of main points and saves them as a numbered outline in a specified file.  \n",
        "   - Returns the file path where the outline was saved.  \n",
        "\n",
        "2. **`read_document`**  \n",
        "   - Reads the content of a specified document.  \n",
        "   - Optionally allows reading only a specific range of lines.  \n",
        "\n",
        "3. **`write_document`**  \n",
        "   - Creates a new document and writes the given text content into it.  \n",
        "   - Returns the file path of the saved document.  \n",
        "\n",
        "4. **`edit_document`**  \n",
        "   - Allows inserting new text at specific line numbers in an existing document.  \n",
        "   - If a line number is out of range, it returns an error.  \n",
        "   - Saves the modified document and returns its file path.  "
      ]
    },
    {
      "cell_type": "markdown",
      "metadata": {
        "id": "__Jw_XBIFwwa"
      },
      "source": [
        "### Document Writing State\n",
        "\n",
        "Just like with our Research Team state - we want to keep track of a few things, however this time - we also want to keep track of which files we've created - so let's add that here!"
      ]
    },
    {
      "cell_type": "code",
      "execution_count": 40,
      "metadata": {
        "id": "DoU2YwJRu7wD"
      },
      "outputs": [],
      "source": [
        "import operator\n",
        "from pathlib import Path\n",
        "\n",
        "class DocWritingState(TypedDict):\n",
        "    messages: Annotated[List[BaseMessage], operator.add]\n",
        "    team_members: str\n",
        "    next: str\n",
        "    current_files: str"
      ]
    },
    {
      "cell_type": "markdown",
      "metadata": {
        "id": "4p1kQShmGHCh"
      },
      "source": [
        "### Document Writing Prelude Function\n",
        "\n",
        "Since we have a working directory - we want to be clear about what our current working directory looks like - this helper function will allow us to do that cleanly!"
      ]
    },
    {
      "cell_type": "code",
      "execution_count": 41,
      "metadata": {
        "id": "G79mUggQGLVq"
      },
      "outputs": [],
      "source": [
        "def prelude(state):\n",
        "    written_files = []\n",
        "    if not WORKING_DIRECTORY.exists():\n",
        "        WORKING_DIRECTORY.mkdir()\n",
        "    try:\n",
        "        written_files = [\n",
        "            f.relative_to(WORKING_DIRECTORY) for f in WORKING_DIRECTORY.rglob(\"*\")\n",
        "        ]\n",
        "    except:\n",
        "        pass\n",
        "    if not written_files:\n",
        "        return {**state, \"current_files\": \"No files written.\"}\n",
        "    return {\n",
        "        **state,\n",
        "        \"current_files\": \"\\nBelow are files your team has written to the directory:\\n\"\n",
        "        + \"\\n\".join([f\" - {f}\" for f in written_files]),\n",
        "    }"
      ]
    },
    {
      "cell_type": "markdown",
      "metadata": {
        "id": "wbSre9agT9Gb"
      },
      "source": [
        "### Document Writing Node Creation\n",
        "\n"
      ]
    },
    {
      "cell_type": "code",
      "execution_count": 42,
      "metadata": {
        "id": "v7oso327T_wa"
      },
      "outputs": [],
      "source": [
        "doc_writer_agent = create_agent(\n",
        "    llm,\n",
        "    [write_document, edit_document, read_document],\n",
        "    (\"You are an expert writing technical LinkedIn posts.\\n\"\n",
        "    \"Below are files currently in your directory:\\n{current_files}\"),\n",
        ")\n",
        "context_aware_doc_writer_agent = prelude | doc_writer_agent\n",
        "doc_writing_node = functools.partial(\n",
        "    agent_node, agent=context_aware_doc_writer_agent, name=\"DocWriter\"\n",
        ")\n",
        "\n",
        "note_taking_agent = create_agent(\n",
        "    llm,\n",
        "    [create_outline, read_document],\n",
        "    (\"You are an expert senior researcher tasked with writing a LinkedIn post outline and\"\n",
        "    \" taking notes to craft a LinkedIn post.\\n{current_files}\"),\n",
        ")\n",
        "context_aware_note_taking_agent = prelude | note_taking_agent\n",
        "note_taking_node = functools.partial(\n",
        "    agent_node, agent=context_aware_note_taking_agent, name=\"NoteTaker\"\n",
        ")\n",
        "\n",
        "copy_editor_agent = create_agent(\n",
        "    llm,\n",
        "    [write_document, edit_document, read_document],\n",
        "    (\"You are an expert copy editor who focuses on fixing grammar, spelling, and tone issues\\n\"\n",
        "    \"Below are files currently in your directory:\\n{current_files}\"),\n",
        ")\n",
        "context_aware_copy_editor_agent = prelude | copy_editor_agent\n",
        "copy_editing_node = functools.partial(\n",
        "    agent_node, agent=context_aware_copy_editor_agent, name=\"CopyEditor\"\n",
        ")\n",
        "\n",
        "dopeness_editor_agent = create_agent(\n",
        "    llm,\n",
        "    [write_document, edit_document, read_document],\n",
        "    (\"You are an expert in dopeness, litness, coolness, etc - you edit the document to make sure it's dope. Make sure to use a number of emojis.\"\n",
        "    \"Below are files currently in your directory:\\n{current_files}\"),\n",
        ")\n",
        "context_aware_dopeness_editor_agent = prelude | dopeness_editor_agent\n",
        "dopeness_node = functools.partial(\n",
        "    agent_node, agent=context_aware_dopeness_editor_agent, name=\"DopenessEditor\"\n",
        ")\n",
        "\n",
        "doc_writing_supervisor = create_team_supervisor(\n",
        "    llm,\n",
        "    (\"You are a supervisor tasked with managing a conversation between the\"\n",
        "    \" following workers: {team_members}. You should always verify the technical\"\n",
        "    \" contents after any edits are made. \"\n",
        "    \"Given the following user request,\"\n",
        "    \" respond with the worker to act next. Each worker will perform a\"\n",
        "    \" task and respond with their results and status. When each team is finished,\"\n",
        "    \" you must respond with FINISH.\"),\n",
        "    [\"DocWriter\", \"NoteTaker\", \"DopenessEditor\", \"CopyEditor\"],\n",
        ")"
      ]
    },
    {
      "cell_type": "markdown",
      "metadata": {
        "id": "AUiNMpJBGXN0"
      },
      "source": [
        "### Document Writing Team LangGraph Construction\n",
        "\n",
        "This part is almost exactly the same (with a few extra nodes) as our Research Team LangGraph construction - so we'll leave it as one block!"
      ]
    },
    {
      "cell_type": "code",
      "execution_count": 43,
      "metadata": {
        "id": "Q6n8A1ytxVTv"
      },
      "outputs": [],
      "source": [
        "authoring_graph = StateGraph(DocWritingState)\n",
        "authoring_graph.add_node(\"DocWriter\", doc_writing_node)\n",
        "authoring_graph.add_node(\"NoteTaker\", note_taking_node)\n",
        "authoring_graph.add_node(\"CopyEditor\", copy_editing_node)\n",
        "authoring_graph.add_node(\"DopenessEditor\", dopeness_node)\n",
        "authoring_graph.add_node(\"supervisor\", doc_writing_supervisor)\n",
        "\n",
        "authoring_graph.add_edge(\"DocWriter\", \"supervisor\")\n",
        "authoring_graph.add_edge(\"NoteTaker\", \"supervisor\")\n",
        "authoring_graph.add_edge(\"CopyEditor\", \"supervisor\")\n",
        "authoring_graph.add_edge(\"DopenessEditor\", \"supervisor\")\n",
        "\n",
        "authoring_graph.add_conditional_edges(\n",
        "    \"supervisor\",\n",
        "    lambda x: x[\"next\"],\n",
        "    {\n",
        "        \"DocWriter\": \"DocWriter\",\n",
        "        \"NoteTaker\": \"NoteTaker\",\n",
        "        \"CopyEditor\" : \"CopyEditor\",\n",
        "        \"DopenessEditor\" : \"DopenessEditor\",\n",
        "        \"FINISH\": END,\n",
        "    },\n",
        ")\n",
        "\n",
        "authoring_graph.set_entry_point(\"supervisor\")\n",
        "chain = authoring_graph.compile()"
      ]
    },
    {
      "cell_type": "markdown",
      "metadata": {
        "id": "Zx-EKGkHKUBO"
      },
      "source": [
        "#### Display Graph"
      ]
    },
    {
      "cell_type": "code",
      "execution_count": 44,
      "metadata": {
        "colab": {
          "base_uri": "https://localhost:8080/",
          "height": 488
        },
        "id": "AZdOb3GZKSM7",
        "outputId": "187b0e24-49a3-41e0-fa5e-fc91018c8d17"
      },
      "outputs": [
        {
          "data": {
            "image/jpeg": "[encoded data removed]",
            "text/plain": [
              "<IPython.core.display.Image object>"
            ]
          },
          "metadata": {},
          "output_type": "display_data"
        }
      ],
      "source": [
        "from IPython.display import Image, display\n",
        "\n",
        "try:\n",
        "    display(Image(chain.get_graph(xray=True).draw_mermaid_png()))\n",
        "except:\n",
        "    pass"
      ]
    },
    {
      "cell_type": "markdown",
      "metadata": {
        "id": "yB_rOw1hGpwd"
      },
      "source": [
        "Just as before - we'll need to create an \"interface\" between the level above, and our graph."
      ]
    },
    {
      "cell_type": "code",
      "execution_count": 45,
      "metadata": {
        "id": "G-RbbCKoG_nt"
      },
      "outputs": [],
      "source": [
        "def enter_chain(message: str, members: List[str]):\n",
        "    results = {\n",
        "        \"messages\": [HumanMessage(content=message)],\n",
        "        \"team_members\": \", \".join(members),\n",
        "    }\n",
        "    return results\n",
        "\n",
        "authoring_chain = (\n",
        "    functools.partial(enter_chain, members=authoring_graph.nodes)\n",
        "    | authoring_graph.compile()\n",
        ")"
      ]
    },
    {
      "cell_type": "markdown",
      "metadata": {
        "id": "GgyhpTrRNgQd"
      },
      "source": [
        "Now we can test this out!\n",
        "\n",
        "> NOTE: It is possible you may see an error here - rerun the cell to clear."
      ]
    },
    {
      "cell_type": "code",
      "execution_count": 46,
      "metadata": {
        "colab": {
          "base_uri": "https://localhost:8080/"
        },
        "id": "IWUxv4XDx3kg",
        "outputId": "d49cb165-2768-4a30-9080-80f711ab1b3b"
      },
      "outputs": [
        {
          "name": "stdout",
          "output_type": "stream",
          "text": [
            "{'supervisor': {'next': 'DocWriter'}}\n",
            "---\n",
            "{'DocWriter': {'messages': [HumanMessage(content=\"The outline for the LinkedIn post on Linear Regression has been successfully created and saved to disk. Here's a brief overview of the content:\\n\\n1. **Introduction to Linear Regression**\\n   - Explanation of linear regression and its importance in data science.\\n\\n2. **Key Concepts of Linear Regression**\\n   - Discussion on independent and dependent variables, the regression line, and the basic formula.\\n\\n3. **Applications of Linear Regression**\\n   - Examples of how it's used in real-world scenarios and its impact on business decisions.\\n\\n4. **Conclusion**\\n   - Summary of the post and encouragement for further exploration.\\n\\nThis outline will guide the creation of an informative LinkedIn post targeting professionals interested in data science and predictive modeling.\", name='DocWriter')]}}\n",
            "---\n",
            "{'supervisor': {'next': 'FINISH'}}\n",
            "---\n"
          ]
        }
      ],
      "source": [
        "for s in authoring_chain.stream(\n",
        "    \"Write an outline for for a short LinkedIn post on Linear Regression and write it to disk.\",\n",
        "    {\"recursion_limit\": 100},\n",
        "):\n",
        "    if \"__end__\" not in s:\n",
        "        print(s)\n",
        "        print(\"---\")"
      ]
    },
    {
      "cell_type": "markdown",
      "metadata": {
        "id": "zpW2R9SUHGUq"
      },
      "source": [
        "## Task 5: Meta-Supervisor and Full Graph\n",
        "\n",
        "Finally, now that we have our two LangGraph agents (some of which are already multi-agent), we can build a supervisor that sits above all of them!\n",
        "\n",
        "The final process, surprisingly, is quite straight forward!\n",
        "\n",
        "Let's jump in!\n",
        "\n",
        "First off - we'll need to create our supervisor agent node."
      ]
    },
    {
      "cell_type": "code",
      "execution_count": 47,
      "metadata": {
        "id": "wkpxeUf9ygKp"
      },
      "outputs": [],
      "source": [
        "from langchain_core.messages import AIMessage, BaseMessage, HumanMessage\n",
        "from langchain_openai.chat_models import ChatOpenAI\n",
        "\n",
        "\n",
        "llm = ChatOpenAI(model=\"gpt-4\")\n",
        "\n",
        "supervisor_node = create_team_supervisor(\n",
        "    llm,\n",
        "    \"You are a supervisor tasked with managing a conversation between the\"\n",
        "    \" following teams: {team_members}. Given the following user request,\"\n",
        "    \" respond with the worker to act next. Each worker will perform a\"\n",
        "    \" task and respond with their results and status. When all workers are finished,\"\n",
        "    \" you must respond with FINISH.\",\n",
        "    [\"Research team\", \"LinkedIn team\"],\n",
        ")"
      ]
    },
    {
      "cell_type": "markdown",
      "metadata": {
        "id": "hUvOh_xWIKig"
      },
      "source": [
        "We'll also create our new state - as well as some methods to help us navigate the new state and the subgraphs.\n",
        "\n",
        "> NOTE: We only pass the most recent message from the parent graph to the subgraph, and we only extract the most recent message from the subgraph to include in the state of the parent graph."
      ]
    },
    {
      "cell_type": "code",
      "execution_count": 48,
      "metadata": {
        "id": "O7HJ8MF0yh_i"
      },
      "outputs": [],
      "source": [
        "class State(TypedDict):\n",
        "    messages: Annotated[List[BaseMessage], operator.add]\n",
        "    next: str\n",
        "\n",
        "def get_last_message(state: State) -> str:\n",
        "    return state[\"messages\"][-1].content\n",
        "\n",
        "def join_graph(response: dict):\n",
        "    return {\"messages\": [response[\"messages\"][-1]]}"
      ]
    },
    {
      "cell_type": "markdown",
      "metadata": {
        "id": "B5RHao1sIanG"
      },
      "source": [
        "Next, we'll create our base graph.\n",
        "\n",
        "Notice how each node we're adding is *AN ENTIRE LANGGRAPH AGENT* (wrapped into an LCEL chain with our helper functions above)."
      ]
    },
    {
      "cell_type": "code",
      "execution_count": 49,
      "metadata": {
        "id": "PfCWABCMIaFy"
      },
      "outputs": [],
      "source": [
        "super_graph = StateGraph(State)\n",
        "\n",
        "super_graph.add_node(\"Research team\", get_last_message | research_chain | join_graph)\n",
        "super_graph.add_node(\n",
        "    \"LinkedIn team\", get_last_message | authoring_chain | join_graph\n",
        ")\n",
        "super_graph.add_node(\"supervisor\", supervisor_node)"
      ]
    },
    {
      "cell_type": "markdown",
      "metadata": {
        "id": "dpwpUXMtI62E"
      },
      "source": [
        "Next, we'll create our edges!\n",
        "\n",
        "This process is completely idenctical to what we've seen before - just addressing the LangGraph subgraph nodes instead of individual nodes."
      ]
    },
    {
      "cell_type": "code",
      "execution_count": 50,
      "metadata": {
        "id": "tLtjRuUYI-fx"
      },
      "outputs": [],
      "source": [
        "super_graph.add_edge(\"Research team\", \"supervisor\")\n",
        "super_graph.add_edge(\"LinkedIn team\", \"supervisor\")\n",
        "super_graph.add_conditional_edges(\n",
        "    \"supervisor\",\n",
        "    lambda x: x[\"next\"],\n",
        "    {\n",
        "        \"LinkedIn team\": \"LinkedIn team\",\n",
        "        \"Research team\": \"Research team\",\n",
        "        \"FINISH\": END,\n",
        "    },\n",
        ")\n",
        "super_graph.set_entry_point(\"supervisor\")\n",
        "super_graph = super_graph.compile()"
      ]
    },
    {
      "cell_type": "markdown",
      "metadata": {
        "id": "K1KMfFqgJKw8"
      },
      "source": [
        "That's it!\n",
        "\n",
        "Now we can finally use our full agent!"
      ]
    },
    {
      "cell_type": "code",
      "execution_count": 51,
      "metadata": {
        "colab": {
          "base_uri": "https://localhost:8080/"
        },
        "id": "3M6wUDR-yk8s",
        "outputId": "1ebaf02d-b3e9-4725-e996-e9dc937bc983"
      },
      "outputs": [
        {
          "name": "stdout",
          "output_type": "stream",
          "text": [
            "{'supervisor': {'next': 'Research team'}}\n",
            "---\n",
            "{'Research team': {'messages': [HumanMessage(content='**Exciting Breakthrough in AI: Extending Llama-3’s Context Ten-Fold!**\\n\\nWe\\'re thrilled to share a significant advancement in the field of AI and large language models (LLMs) with the recent publication titled \"Extending Llama-3’s Context Ten-Fold Overnight.\" This groundbreaking research, conducted by a team including Peitian Zhang and six other experts, has successfully expanded the context length of the Llama-3-8B-Instruct model from 8K to 80K tokens.\\n\\n🔍 **Key Highlights:**\\n- The model uses QLoRA fine-tuning to achieve this remarkable extension efficiently, completing the training in just 8 hours using one 8xA800 (80G) GPU machine.\\n- It exhibits superior performance across various benchmarks, including NIHS, topic retrieval, and long-context language understanding.\\n- This enhancement not only maintains but also exceeds previous capabilities, with robust generalization that extends beyond the set training contexts, up to 128K tokens.\\n\\n🌐 The full resources, including the model, training data, and code, are now publicly available, providing an invaluable asset for further research in training long-context LLMs.\\n\\nThis achievement not only sets a new standard in the capabilities of language models but also promises to significantly enhance how AI can manage and analyze extensive textual information. It marks a pivotal step towards more contextually aware and efficient language models.\\n\\nFor a deeper dive into this fascinating development, check out the full paper here: [Extending Llama-3\\'s Context Ten-Fold Overnight](https://www.emergentmind.com/papers/2404.19553).\\n\\n#AI #MachineLearning #LanguageModels #Innovation #Research #DataScience', name='Search')]}}\n",
            "---\n",
            "{'supervisor': {'next': 'LinkedIn team'}}\n",
            "---\n",
            "{'LinkedIn team': {'messages': [HumanMessage(content='**Enhancing Cybersecurity: Breakthrough in Predictive Threat Detection Using AI**\\n\\nIn the rapidly advancing field of cybersecurity, a landmark development has been achieved with the introduction of a new AI-driven predictive threat detection system. The latest paper, \"AI-Enhanced Predictive Threat Detection in Cybersecurity,\" authored by Dr. Linda Hayes and her team, outlines a revolutionary approach to foreseeing and mitigating potential cyber threats before they escalate.\\n\\n🛡️ **Core Highlights:**\\n- The system leverages deep learning algorithms to analyze patterns and predict potential security breaches with an accuracy rate previously unseen, reducing false positives by up to 70%.\\n- It has been implemented in a real-world environment, showcasing a decrease in breach incidents by 40% in organizations that deployed it.\\n- This predictive model uses a combination of historical data and real-time analytics, allowing for adaptive threat responses that evolve as new data emerges.\\n\\n🔗 The research provides extensive resources, including models, codebases, and implementation strategies, to facilitate adaptation and further development within the cybersecurity community.\\n\\nThis breakthrough not only advances the proactive capabilities of cybersecurity systems but also sets a new standard in how AI can be utilized to protect digital infrastructures. It marks a significant step forward in defending against increasingly sophisticated cyber threats.\\n\\nFor an in-depth exploration of this technology, refer to the full paper available here: [AI-Enhanced Predictive Threat Detection in Cybersecurity](https://www.cybersecurefuture.com/papers/2023.00487).\\n\\n#Cybersecurity #AI #MachineLearning #Technology #Innovation #DataProtection', name='DocWriter')]}}\n",
            "---\n",
            "{'supervisor': {'next': 'LinkedIn team'}}\n",
            "---\n",
            "{'LinkedIn team': {'messages': [HumanMessage(content='The LinkedIn post titled **\"Enhancing Cybersecurity: Breakthrough in Predictive Threat Detection Using AI\"** has been successfully created and saved. The post highlights a significant advance in AI-driven predictive threat detection systems, emphasizing its impact on reducing false positives and breach incidents in real-world applications.', name='DocWriter')]}}\n",
            "---\n",
            "{'supervisor': {'next': 'LinkedIn team'}}\n",
            "---\n",
            "{'LinkedIn team': {'messages': [HumanMessage(content='The LinkedIn post is well-structured and informative, effectively highlighting the advancements in AI-driven predictive threat detection systems in cybersecurity. It clearly outlines the development, benefits, and real-world application of this new technology, which is essential for engaging and educating the professional community on LinkedIn.', name='DocWriter')]}}\n",
            "---\n",
            "{'supervisor': {'next': 'LinkedIn team'}}\n",
            "---\n",
            "{'LinkedIn team': {'messages': [HumanMessage(content='The LinkedIn post is well-structured and informative, effectively highlighting the advancements in AI-driven predictive threat detection systems in cybersecurity. It clearly outlines the development, benefits, and real-world application of this new technology, which is essential for engaging and educating the professional community on LinkedIn.')]}}\n",
            "---\n",
            "{'supervisor': {'next': 'FINISH'}}\n",
            "---\n"
          ]
        }
      ],
      "source": [
        "WORKING_DIRECTORY = Path(create_random_subdirectory())\n",
        "\n",
        "for s in super_graph.stream(\n",
        "    {\n",
        "        \"messages\": [\n",
        "            HumanMessage(\n",
        "                content=\"Write a LinkedIn post on the paper 'Extending Llama-3’s Context Ten-Fold Overnight'. First consult the research team. Then make sure you consult the LinkedIn team, and check for copy editing and dopeness, and write the file to disk.\"\n",
        "            )\n",
        "        ],\n",
        "    },\n",
        "    {\"recursion_limit\": 30},\n",
        "):\n",
        "    if \"__end__\" not in s:\n",
        "        print(s)\n",
        "        print(\"---\")"
      ]
    },
    {
      "cell_type": "markdown",
      "metadata": {
        "id": "PuZAvSlJJpPP"
      },
      "source": [
        "## SAMPLE POST!"
      ]
    },
    {
      "cell_type": "markdown",
      "metadata": {
        "id": "lOEMCrXTJaxW"
      },
      "source": [
        "🚀 Exciting News in AI Research! 🚀\n",
        "\n",
        "We're thrilled to share a groundbreaking achievement in the field of large language models (LLMs)! A recent study titled \"Extending Llama-3’s Context Ten-Fold Overnight\" has successfully expanded the context length of Llama-3 from 8K to a staggering 80K tokens using QLoRA fine-tuning. This enhancement was accomplished in just eight hours on a single 8xA800 (80G) GPU machine, demonstrating both efficiency and effectiveness in model training.\n",
        "\n",
        "🔍 This remarkable advancement not only improves Llama-3’s performance across various benchmarks such as NIHS, topic retrieval, and long-context language understanding, but also preserves the model's ability to generalize beyond its training contexts, handling up to 128K tokens. This capability makes it a formidable tool in processing extensive textual information, pushing the boundaries of what AI can achieve.\n",
        "\n",
        "📊 Evaluated on LongBench and InfiniteBench, the model consistently outperformed baselines, setting a new standard in the field. Although it faced challenges in code completion tasks, the overall results are overwhelmingly positive.\n",
        "\n",
        "🌐 The full resources, including the model, training data, and code, are now publicly available, providing an invaluable asset for further research in training long-context LLMs.\n",
        "\n",
        "🔗 For more details, check out the full paper [here](https://www.emergentmind.com/papers/2404.19553).\n",
        "\n",
        "Let's continue pushing the limits of what AI can do! #AILLMs #MachineLearning #AIResearch #LanguageModels #Innovation\n"
      ]
    }
  ],
  "metadata": {
    "colab": {
      "provenance": []
    },
    "kernelspec": {
      "display_name": "Python 3",
      "name": "python3"
    },
    "language_info": {
      "name": "python"
    }
  },
  "nbformat": 4,
  "nbformat_minor": 0
}
